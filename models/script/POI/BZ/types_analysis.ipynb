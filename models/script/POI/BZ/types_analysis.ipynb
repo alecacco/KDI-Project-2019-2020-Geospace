{
 "nbformat": 4,
 "nbformat_minor": 2,
 "metadata": {
  "language_info": {
   "name": "python",
   "codemirror_mode": {
    "name": "ipython",
    "version": 3
   },
   "version": "3.7.5"
  },
  "orig_nbformat": 2,
  "file_extension": ".py",
  "mimetype": "text/x-python",
  "name": "python",
  "npconvert_exporter": "python",
  "pygments_lexer": "ipython3",
  "version": 3
 },
 "cells": [
  {
   "cell_type": "code",
   "execution_count": 1,
   "metadata": {},
   "outputs": [],
   "source": [
    "import requests\n",
    "import json\n",
    "import html\n",
    "from bs4 import BeautifulSoup"
   ]
  },
  {
   "cell_type": "code",
   "execution_count": 3,
   "metadata": {},
   "outputs": [],
   "source": [
    "type_url = 'http://tourism.opendatahub.bz.it/api/PoiTypes'\n",
    "poi_types = requests.get(type_url).json()"
   ]
  },
  {
   "cell_type": "code",
   "execution_count": 4,
   "metadata": {},
   "outputs": [],
   "source": [
    "types = []\n",
    "shop_types = set()\n",
    "medical_types = set()\n",
    "culture_types = set()\n",
    "night_types = set()\n",
    "public_types = set()\n",
    "sport_types = set()\n",
    "transport_types = set()\n",
    "service_types = set()\n",
    "\n",
    "for ptype in poi_types:    \n",
    "    if ptype['Type'] == 'Type':\n",
    "        types.append(str(ptype['Bitmask']) + ' - ' + ptype['TypeDesc']['en']+'__'+ptype['TypeDesc']['de'])\n",
    "    elif ptype['Parent'] in ['Geschäfte', 'Kunsthandwerker']:\n",
    "        shop_types.add(str(ptype['Bitmask']) + ' - ' + ptype['TypeDesc']['en']+'__'+ptype['TypeDesc']['de'])\n",
    "    elif ptype['Parent'] in ['Ärzte, Apotheken']:\n",
    "        medical_types.add(str(ptype['Bitmask']) + ' - ' + ptype['TypeDesc']['en']+'__'+ptype['TypeDesc']['de'])\n",
    "    elif ptype['Parent'] in ['Kultur und Sehenswürdigkeiten']:\n",
    "        culture_types.add(str(ptype['Bitmask']) + ' - ' + ptype['TypeDesc']['en']+'__'+ptype['TypeDesc']['de'])\n",
    "    elif ptype['Parent'] in ['Nachtleben und Unterhaltung']:\n",
    "        night_types.add(str(ptype['Bitmask']) + ' - ' + ptype['TypeDesc']['en']+'__'+ptype['TypeDesc']['de'])\n",
    "    elif ptype['Parent'] in ['Öffentliche Einrichtungen']:\n",
    "        public_types.add(str(ptype['Bitmask']) + ' - ' + ptype['TypeDesc']['en']+'__'+ptype['TypeDesc']['de'])\n",
    "    elif ptype['Parent'] in ['Sport und Freizeit']:\n",
    "        sport_types.add(str(ptype['Bitmask']) + ' - ' + ptype['TypeDesc']['en']+'__'+ptype['TypeDesc']['de'])\n",
    "    elif ptype['Parent'] in ['Verkehr und Transport']:\n",
    "        transport_types.add(str(ptype['Bitmask']) + ' - ' + ptype['TypeDesc']['en']+'__'+ptype['TypeDesc']['de'])\n",
    "    elif ptype['Parent'] in ['Dienstleister']:\n",
    "        service_types.add(str(ptype['Bitmask']) + ' - ' + ptype['TypeDesc']['en']+'__'+ptype['TypeDesc']['de'])"
   ]
  },
  {
   "cell_type": "code",
   "execution_count": 5,
   "metadata": {},
   "outputs": [
    {
     "data": {
      "text/plain": "['1 - Doctors, Pharmacies__Ärzte, Apotheken',\n '2 - Shops__Geschäfte',\n '4 - Culture and sights__Kultur und Sehenswürdigkeiten',\n '8 - Nightlife and entertainment__Nachtleben und Unterhaltung',\n '16 - Public institutions__Öffentliche Einrichtungen',\n '32 - Sports and leisure__Sport und Freizeit',\n '64 - Traffic and transport__Verkehr und Transport',\n '128 - Service providers__Dienstleister',\n '256 - Craft__Kunsthandwerker']"
     },
     "execution_count": 5,
     "metadata": {},
     "output_type": "execute_result"
    }
   ],
   "source": [
    "types"
   ]
  },
  {
   "cell_type": "code",
   "execution_count": 6,
   "metadata": {},
   "outputs": [
    {
     "data": {
      "text/plain": "{'1 - Beverages__Getränke',\n '1 - Sculptor__Bildhauer',\n '1024 - Jeweller, Goldsmiths__Juweliere, Goldschmiede',\n '1048576 - Souvenirs__Souvenir',\n '1073741824 - Home furnishings __Wohnausstattung',\n '128 - Meat and sausages__Fleisch und Wurstwaren',\n '131072 - Fruits and vegetables__Obst- und Gemüse',\n '16 - Drugstore__Drogerie',\n '16 - More crafts__Weitere Kunsthandwerker',\n '16384 - Leather ware, shoes__Lederwaren, Schuhe',\n '16777216 - Newspapers, books and stationary__Zeitungen, Bücher und Papierwaren',\n '2 - Antiques__Antiquitäten',\n '2 - Weaving mill arts__Kunstwebereien',\n '2048 - Handicrafts__Kunsthandwerke',\n '2097152 - Toys__Spielwaren',\n '256 - Bread and baked goods__Brot und Gebäck',\n '262144 - Optician, photography__Optiker, Foto',\n '268435456 - Cleanings__Reinigungen',\n '32 - Artists__Künstler',\n '32 - Bikes__Fahrräder',\n '32768 - Local traditional products__Lokale traditionelle Produkte',\n '33554432 - Kids fashion__Kindermode',\n '4 - Flowers__Blumen',\n '4 - Quill embroidery__Federkielstickereien',\n '4096 - Agricultural products__Landwirtschaftliche Artikel',\n '4194304 - Sports equipment__Sportartikel',\n '512 - Housewares__Haushaltswaren',\n '524288 - Production facilities, farm shops__Produktionsstätten, Hofläden',\n '536870912 - Other shops__Weitere Geschäfte',\n '64 - Paints, Wallpapers__Farben, Tapeten',\n '65536 - Fashion, clothing__Mode, Bekleidung',\n '8 - Artist and gilder__Kunstmaler und Vergolder',\n '8 - Computer accessories, technology__Computerzubehör, Technik',\n '8192 - Groceries__Lebensmittel',\n '8388608 - Pet supplies__Tierbedarf'}"
     },
     "execution_count": 6,
     "metadata": {},
     "output_type": "execute_result"
    }
   ],
   "source": [
    "shop_types"
   ]
  },
  {
   "cell_type": "code",
   "execution_count": 7,
   "metadata": {},
   "outputs": [
    {
     "data": {
      "text/plain": "{'1 - Pharmacies__Apotheken',\n '128 - Private clinics, trauma centers, physiotherapists__Privatkliniken, Trauma Zentren, Physiotherapeuten',\n '16 - Veterinaries__Tierärzte',\n '2 - Doctors__Ärzte',\n '256 - Other doctors, pharmacies__Weitere Ärzte, Apotheken',\n '32 - Dentists__Zahnärzte',\n '4 - Holiday dialysis__Feriendialysen',\n '64 - Medicines dispensers__Medizinausgabestellen, Medikamentenautomatn',\n '8 - Paediatricians__Kinderärzte'}"
     },
     "execution_count": 7,
     "metadata": {},
     "output_type": "execute_result"
    }
   ],
   "source": [
    "medical_types"
   ]
  },
  {
   "cell_type": "code",
   "execution_count": 8,
   "metadata": {},
   "outputs": [
    {
     "data": {
      "text/plain": "{'1 - Monuments, natural monuments__Denkmäler, Naturdenkmäler',\n '1024 - Museums and exhibitions__Museen und Ausstellungen',\n '1048576 - Viewpoints__Aussichtspunkte',\n '128 - Other historical buildings__Weitere historische Gebäude',\n '131072 - Other producers__Weitere Produzenten',\n '16 - Castles__Schlösser',\n '16384 - Distillery__Brennereien',\n '2 - Parks__Grünanlagen',\n '2048 - Nature reserves, National Park Centre__Naturparkhaus, Nationalparkhaus',\n '2097152 - Mystical sites__Mystische Stätten',\n '256 - Churches, chapels, religious centres__Kirchen, Kapellen, Religiöse Zentren',\n '262144 - Lakes, cascades__Seen, Wasserfälle',\n '32 - Forts__Burgen',\n '32768 - Fruit Growers Cooperatives__Obstgenossenschaft',\n '4 - Historical buildings__Historische Gebäude',\n '4096 - Production facilities__Produktionsstätten',\n '4194304 - Historical squares__Historische Plätze',\n '512 - Cultural centres__Kulturzentren',\n '524288 - Theatre__Theater',\n '64 - Ruins__Ruinen',\n '65536 - Wine producers and Wineries__Kellereien und Winzer',\n '8 - Raised hides__Ansitze',\n '8192 - Brewery__Bierbrauerei',\n '8388608 - Other culture-and landmarks__Weitere Kultur und Sehenswürdigkeiten'}"
     },
     "execution_count": 8,
     "metadata": {},
     "output_type": "execute_result"
    }
   ],
   "source": [
    "culture_types"
   ]
  },
  {
   "cell_type": "code",
   "execution_count": 9,
   "metadata": {},
   "outputs": [
    {
     "data": {
      "text/plain": "{'1 - Beer garden__Biergärten',\n '2 - Cocktail bars__Cocktailbars',\n '4 - Discotheques, night clubs__Diskotheken, Nachtclubs',\n '8 - Other nightlife and entertainment__Weitere Nachtleben und Unterhaltungen'}"
     },
     "execution_count": 9,
     "metadata": {},
     "output_type": "execute_result"
    }
   ],
   "source": [
    "night_types"
   ]
  },
  {
   "cell_type": "code",
   "execution_count": 10,
   "metadata": {},
   "outputs": [
    {
     "data": {
      "text/plain": "{'1 - Libraries__Bibliotheken',\n '1024 - Other public institutions__Weitere öffentliche Einrichtungen',\n '128 - Infopoint__Infopoint',\n '16 - Post__Post',\n '2 - Municipalities__Gemeinden',\n '256 - WCs__WCs',\n '32 - Recycling centres__Recyclinghöfe',\n '4 - Public WLAN__Öffentliches WLANs',\n '512 - Hospital__Krankenhaus',\n '64 - Information office__Infobüro',\n '8 - Police, Carabinieri__Polizei, Carabinieri'}"
     },
     "execution_count": 10,
     "metadata": {},
     "output_type": "execute_result"
    }
   ],
   "source": [
    "public_types"
   ]
  },
  {
   "cell_type": "code",
   "execution_count": 11,
   "metadata": {},
   "outputs": [
    {
     "data": {
      "text/plain": "{'1 - Guides, clubs, schools__Guides, Clubs, Schulen',\n '1024 - Cross-country ski school__Langlaufschule',\n '1048576 - Football fields__Fußballplätze',\n '1073741824 - Resting place for cyclists__Radraststätten',\n '1099511627776 - E-Bike rentals__E-Bike-Verleihe',\n '128 - Rafting__Rafting',\n '131072 - Waters for fishing__Fischergewässer',\n '134217728 - Minigolf course__Minigolfplätze',\n '137438953472 - Cross-country skiing centres__Langlaufzentren',\n '140737488355328 - Other rentals, depots__Weitere Verleih, Depot',\n '16 - Kayak__Kajak',\n '16384 - Bathing lakes__Badeseen',\n '16777216 - Climing gardens__Klettergarten',\n '17179869184 - Volleyball, beach volleyball__Volleyball, Beachvolleyball',\n '17592186044416 - Ski rentals__Skiverleihe',\n '2 - Ski- and mountain guides__Ski- und Bergführer',\n '2048 - Skiclubs__Skiclubs',\n '2097152 - Golf courses__Golfplätze',\n '2147483648 - Riding halls__Reitställe',\n '2199023255552 - Bicycle rentals__Radverleihe',\n '256 - Ski schools__Skischulen',\n '262144 - Fitness center__Fitnesscenter',\n '268435456 - Horse-drawn carriage rides__Pferdekutschenfahrten',\n '274877906944 - Other playgrounds and sports facilities__Weitere Spiel- und Sportanlagen',\n '281474976710656 - Snow-shoe rental__Schneeschuhverleih',\n '32 - Kitesurfen, Windsurfen__Kitesurfen, Windsurfen',\n '32768 - Archery range__Bogenschießanlagen',\n '33554432 - Climing halls__Kletterhallen',\n '34359738368 - Zip-lines__Zip-lines',\n '35184372088832 - Rental of baby products__Verleih von Kinderartikeln',\n '4 - Bike guides__Bikeguides',\n '4096 - Other guides, clubs, schools__Weitere Guides, Clubs, Schulen',\n '4194304 - Indoor pools__Hallenbäder',\n '4294967296 - Ice skating__Schlittschuhlaufen',\n '4398046511104 - Skate rentals__Schlittschuhverleihe',\n '512 - Hiking guide__Wanderführer',\n '524288 - Outdoor pools__Freibäder',\n '536870912 - Horse-drawn sleigh rides__Pferdeschlittenfahrten',\n '549755813888 - Rent, Depot__Verleih, Depot',\n '64 - Paragliding, Kite flying__Paragleiten, Drachenfliegen',\n '65536 - Ice climbing__Eisklettern',\n '67108864 - Climbing parks__Kletterparks',\n '68719476736 - Kneipp facilities__Kneippanlage',\n '70368744177664 - Cross-country ski rentals__Verleih von Langlaufskiern',\n '8 - Canyoning, Riverboarding__Canyoning, Hydrospeed',\n '8192 - Playgrounds and sports facilities__Spiel- und Sportanlagen',\n '8388608 - Playgrounds__Kinderspielplätze',\n '8589934592 - Tennis courts__Tennisplätze',\n '8796093022208 - Ski depots__Skidepots'}"
     },
     "execution_count": 11,
     "metadata": {},
     "output_type": "execute_result"
    }
   ],
   "source": [
    "sport_types"
   ]
  },
  {
   "cell_type": "code",
   "execution_count": 12,
   "metadata": {},
   "outputs": [
    {
     "data": {
      "text/plain": "{'1 - Bus stops__Bushaltestellen',\n '1024 - Other traffic and transports__Weitere Verkehr und Transport',\n '128 - Gas stations Methane (gas)__Tankstellen Methan',\n '16 - Taxi, Rental cars with driver, Bus__Taxi, Mietwagen mit Fahrer, Bus',\n '2 - Parking areas__Parkplätze',\n '256 - Gas stations LPG__Tankstellen Autogas',\n '32 - Railway stations__Zugbahnhöfe',\n '4 - Gas stations petrol/diesel__Tankstellen Benzin/Diesel',\n '512 - Gas stations Hydrogen__Tankstellen Wasserstoff',\n '64 - Carsharing__Carsharing',\n '8 - Electric charging stations__E-Tankstellen/Ladestationen'}"
     },
     "execution_count": 12,
     "metadata": {},
     "output_type": "execute_result"
    }
   ],
   "source": [
    "transport_types"
   ]
  },
  {
   "cell_type": "code",
   "execution_count": 13,
   "metadata": {},
   "outputs": [
    {
     "data": {
      "text/plain": "{'1 - Cars and motors__Auto und Motor',\n '1024 - Massage, health spas__Massage, Heilbäder',\n '128 - Beauty and Wellness__Beauty und Wellness',\n '16 - Cleaning__Reinigung',\n '16384 - Other service providers__Weitere Dienstleister',\n '2 - Construction sector, trade__Bausektor, Handwerk',\n '2048 - Day spa, sauna__Day Spa, Sauna',\n '256 - Hairdresser__Friseur',\n '32 - Animal care__Tierpflege',\n '4 - Child day-care and kids programmes__Kinderbetreuung & Animation',\n '4096 - Kneipp baths__Kneippbäder',\n '512 - Cosmetics__Kosmetik',\n '64 - Banks, Cash Machines__Bank, Bankomat',\n '8 - Advertising and graphics__Werbung und Grafik',\n '8192 - Other beauty and wellness__Weitere Beauty und Wellness'}"
     },
     "execution_count": 13,
     "metadata": {},
     "output_type": "execute_result"
    }
   ],
   "source": [
    "service_types"
   ]
  },
  {
   "cell_type": "markdown",
   "execution_count": null,
   "metadata": {},
   "outputs": [],
   "source": [
    "# Entities - Dataset Types Mapping\n",
    "\n",
    "| EER Entity | Type(-Subtype) list |\n",
    "| --- | --- |\n",
    "| PointOfInterest | \"Service providers\", \"Traffic and Transport (without Bus stops, Taxis, and Railways subtypes)\", \"Public institutions (without Hospitals subtype)\" |\n",
    "| Attraction | \"Culture and sights\", \"Sports and leisure\", \"Nightlife and entertainment\" |\n",
    "| Shop | \"Shops\", \"Craft\" |\n",
    "| EmergencyService | \"Public institutions-Hospitals\", \"Doctors, Pharmacies\" |"
   ]
  },
  {
   "cell_type": "code",
   "execution_count": null,
   "metadata": {},
   "outputs": [],
   "source": []
  }
 ]
}